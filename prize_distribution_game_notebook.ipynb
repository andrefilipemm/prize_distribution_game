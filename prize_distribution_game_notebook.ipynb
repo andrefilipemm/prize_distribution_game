{
 "cells": [
  {
   "attachments": {},
   "cell_type": "markdown",
   "metadata": {},
   "source": [
    "# A Prize Distribution Game"
   ]
  },
  {
   "attachments": {},
   "cell_type": "markdown",
   "metadata": {},
   "source": [
    "## Through the *Python* language, frequently using the *random* module, we will develop a program that distributes a total prize over a certain number of attempts and levels."
   ]
  },
  {
   "attachments": {},
   "cell_type": "markdown",
   "metadata": {},
   "source": [
    "### Randomly generate an integer value between 5 and 100 (this number corresponds to the total amount to be paid to a given player)."
   ]
  },
  {
   "cell_type": "code",
   "execution_count": 8,
   "metadata": {},
   "outputs": [
    {
     "name": "stdout",
     "output_type": "stream",
     "text": [
      "Total amount to be paid to the player: 94\n"
     ]
    }
   ],
   "source": [
    "import random as rd\n",
    "\n",
    "total_amount = rd.randint(5, 100) # Total amount to be paid to a given player\n",
    "\n",
    "print(\"Total amount to be paid to the player:\", total_amount)\n"
   ]
  },
  {
   "attachments": {},
   "cell_type": "markdown",
   "metadata": {},
   "source": [
    "### Randomly generate a number between 1 and 3 (this value will be the number of times, or attempts, that the player can choose a prize)."
   ]
  },
  {
   "cell_type": "code",
   "execution_count": 4,
   "metadata": {},
   "outputs": [
    {
     "name": "stdout",
     "output_type": "stream",
     "text": [
      "Number of attempts for the player: 2\n"
     ]
    }
   ],
   "source": [
    "num_attempts = rd.randint(1, 3)  # Number of attempts or tries for the player to choose a prize\n",
    "\n",
    "print(\"Number of attempts for the player:\", num_attempts)\n"
   ]
  },
  {
   "attachments": {},
   "cell_type": "markdown",
   "metadata": {},
   "source": [
    "### Dynamically distribute the total value obtained based on the number of attempts, considering the following conditions:\n",
    "*  The sum of the values obtained through this distribution should always be equal to the total value obtained.\n",
    "*  These values should be distinct from each other (whenever the rest of the rules allow it)."
   ]
  },
  {
   "cell_type": "code",
   "execution_count": 9,
   "metadata": {},
   "outputs": [
    {
     "name": "stdout",
     "output_type": "stream",
     "text": [
      "Total value = 94\n",
      "Number of attempts = 2\n",
      "Distributed values: [28, 66]\n"
     ]
    }
   ],
   "source": [
    "def dynamic_distribution(total, attempts):\n",
    "    values = []\n",
    "    sum_total = 0\n",
    "\n",
    "    # Distribute distinct random values\n",
    "    for _ in range(attempts - 1):\n",
    "        max_range = total - sum_total\n",
    "        if max_range < 1:                     # Check if the maximum range to generate the random value is greater than or equal to 1\n",
    "            break\n",
    "        \n",
    "        value = rd.randint(1, max_range)\n",
    "        values.append(value)\n",
    "        sum_total += value\n",
    "\n",
    "    # Last value to ensure the sum is equal to the total\n",
    "    values.append(total - sum_total)\n",
    "    \n",
    "    if 0 in values:\n",
    "        values.remove(0)\n",
    "    \n",
    "    return values\n",
    "\n",
    "# Example usage\n",
    "print(\"Total value =\", total_amount)\n",
    "print(\"Number of attempts =\", num_attempts)\n",
    "\n",
    "distributed_values = dynamic_distribution(total_amount, num_attempts)\n",
    "print(\"Distributed values:\", distributed_values)"
   ]
  },
  {
   "attachments": {},
   "cell_type": "markdown",
   "metadata": {},
   "source": [
    "### In the event that the total value is greater than $20$, there is a possibility of introducing two levels in the game, considering the following:\n",
    "*  In the 1st level, each value can only have a maximum value of $20$.\n",
    "*  In the 2nd level, there will be only one value generated in the range $[21, 100]$ to pay the player, regardless of the remaining number of attempts.\n",
    "*  The value that signifies a level upgrade is $0$, and it is positioned in the array after the values of the 1st level, if any."
   ]
  },
  {
   "cell_type": "code",
   "execution_count": 15,
   "metadata": {},
   "outputs": [],
   "source": [
    "def dynamic_distribution_2levels(total, attempts):\n",
    "    values = []\n",
    "    sum_total = 0\n",
    "\n",
    "    if total > 20:\n",
    "        # Generate a random number to decide the level\n",
    "        level = rd.randint(1, 2)\n",
    "\n",
    "        if level == 1:\n",
    "            # First level: values up to 20\n",
    "            for _ in range(attempts - 1):\n",
    "                max_range = min(total - sum_total, 20)\n",
    "                if max_range < 1:\n",
    "                    break\n",
    "\n",
    "                value = rd.randint(1, max_range)\n",
    "                values.append(value)\n",
    "                sum_total += value\n",
    "            \n",
    "            values.append(0)    # The value 0 marks the 2nd level transition\n",
    "            # Last value to ensure the sum is equal to the total\n",
    "            values.append(total - sum_total)\n",
    "        else:\n",
    "            # Second level: single value between 21 and 100\n",
    "            values.append(0)    # The value 0 marks the 2nd level\n",
    "            unique_value = total - sum_total\n",
    "            values.append(unique_value)\n",
    "    else:\n",
    "        # Single level with values up to the total\n",
    "        for _ in range(attempts - 1):\n",
    "            max_range = total - sum_total\n",
    "            if max_range < 1:\n",
    "                break\n",
    "\n",
    "            value = rd.randint(1, max_range)\n",
    "            values.append(value)\n",
    "            sum_total += value\n",
    "            \n",
    "        # Last value to ensure the sum is equal to the total\n",
    "        values.append(total - sum_total)\n",
    "\n",
    "        if 0 in values:\n",
    "            values.remove(0)\n",
    "    \n",
    "    return values"
   ]
  },
  {
   "cell_type": "code",
   "execution_count": 14,
   "metadata": {},
   "outputs": [
    {
     "name": "stdout",
     "output_type": "stream",
     "text": [
      "Total value = 94\n",
      "Number of attempts = 2\n",
      "Distributed values: [16, 0, 78]\n"
     ]
    }
   ],
   "source": [
    "#   1st Example\n",
    "print(\"Total value =\", total_amount)\n",
    "print(\"Number of attempts =\", num_attempts)\n",
    "\n",
    "distributed_values1 = dynamic_distribution_2levels(total_amount, num_attempts)\n",
    "print(\"Distributed values:\", distributed_values1)"
   ]
  },
  {
   "attachments": {},
   "cell_type": "markdown",
   "metadata": {},
   "source": [
    "<div class=\"alert alert-block alert-info\">\n",
    "<b>Note:</b> As we can see in the <i>2nd Example</i>, there is the possibility to use only one attempt in the first level and then proceed to the next level."
   ]
  },
  {
   "cell_type": "code",
   "execution_count": 17,
   "metadata": {},
   "outputs": [
    {
     "name": "stdout",
     "output_type": "stream",
     "text": [
      "Total value = 94\n",
      "Number of attempts = 2\n",
      "Distributed values: [0, 94]\n"
     ]
    }
   ],
   "source": [
    "#   2nd Example\n",
    "print(\"Total value =\", total_amount)\n",
    "print(\"Number of attempts =\", num_attempts)\n",
    "\n",
    "distributed_values2 = dynamic_distribution_2levels(total_amount, num_attempts)\n",
    "print(\"Distributed values:\", distributed_values2)"
   ]
  },
  {
   "attachments": {},
   "cell_type": "markdown",
   "metadata": {},
   "source": [
    "### Spread the distribution of values in an array of size 10. This distribution should be done in order (while preserving randomness), considering the conditions from the previous problem."
   ]
  },
  {
   "cell_type": "code",
   "execution_count": 20,
   "metadata": {},
   "outputs": [
    {
     "name": "stdout",
     "output_type": "stream",
     "text": [
      "Total value = 94\n",
      "Number of attempts = 2\n",
      "Distributed values: [16, 0, 78]\n",
      "Global array: [-1, -1, 16, -1, -1, 0, 78, -1, -1, -1]\n"
     ]
    }
   ],
   "source": [
    "global_array = [-1] * 10                      # Preliminary array of size 10 filled with -1 values\n",
    "\n",
    "def fill_in(values):                          # Receives the list of distributed values as a parameter\n",
    "    positions = list(range(10))\n",
    "    rd.shuffle(positions)                      # Ensures that the indices of the array are randomly arranged\n",
    "\n",
    "    for value, position in zip(values, positions):   # In each iteration, assign the corresponding value to the position in the global array.\n",
    "        global_array[position] = value\n",
    "\n",
    "# Example\n",
    "print(\"Total value =\", total_amount)\n",
    "print(\"Number of attempts =\", num_attempts)\n",
    "\n",
    "print(\"Distributed values:\", distributed_values1)\n",
    "\n",
    "fill_in(distributed_values1)\n",
    "print(\"Global array:\", global_array)\n"
   ]
  }
 ],
 "metadata": {
  "kernelspec": {
   "display_name": "Python 3",
   "language": "python",
   "name": "python3"
  },
  "language_info": {
   "codemirror_mode": {
    "name": "ipython",
    "version": 3
   },
   "file_extension": ".py",
   "mimetype": "text/x-python",
   "name": "python",
   "nbconvert_exporter": "python",
   "pygments_lexer": "ipython3",
   "version": "3.11.1"
  },
  "orig_nbformat": 4,
  "vscode": {
   "interpreter": {
    "hash": "8b60d1655586bc39579936b1771edbc278c425e65b218c3285beda285174ca1f"
   }
  }
 },
 "nbformat": 4,
 "nbformat_minor": 2
}
