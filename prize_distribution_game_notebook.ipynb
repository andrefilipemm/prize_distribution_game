{
 "cells": [
  {
   "attachments": {},
   "cell_type": "markdown",
   "metadata": {},
   "source": [
    "# Jogo de atribuição de prémios"
   ]
  },
  {
   "attachments": {},
   "cell_type": "markdown",
   "metadata": {},
   "source": [
    "## Através da linguagem *Python*, e recorrendo frequentemente ao módulo *random*, vamos desenvolver um programa que distribua um prémio total por um determinado número de tentativas e níveis."
   ]
  },
  {
   "attachments": {},
   "cell_type": "markdown",
   "metadata": {},
   "source": [
    "### Gerar aleatoriamente um valor inteiro entre 5 e 100 (este número corresponde ao valor total a pagar a um dado jogador)."
   ]
  },
  {
   "cell_type": "code",
   "execution_count": 6,
   "metadata": {},
   "outputs": [
    {
     "name": "stdout",
     "output_type": "stream",
     "text": [
      "Valor total a ser pago ao jogador: 63\n"
     ]
    }
   ],
   "source": [
    "import random as rd\n",
    "\n",
    "valor_total = rd.randint(5, 100) # valor total a pagar a um dado jogador\n",
    "\n",
    "print(\"Valor total a ser pago ao jogador:\", valor_total)"
   ]
  },
  {
   "attachments": {},
   "cell_type": "markdown",
   "metadata": {},
   "source": [
    "### Gerar aleatoriamente um número entre 1 e 3 (este valor será o número de vezes, ou tentativas, que o jogador poderá escolher um prémio)."
   ]
  },
  {
   "cell_type": "code",
   "execution_count": 3,
   "metadata": {},
   "outputs": [
    {
     "name": "stdout",
     "output_type": "stream",
     "text": [
      "Número de tentativas disponíveis: 3\n"
     ]
    }
   ],
   "source": [
    "num_tentativas = rd.randint(1, 3) # número de vezes que o jogador poderá escolher um prémio\n",
    "\n",
    "print(\"Número de tentativas disponíveis:\", num_tentativas)\n"
   ]
  },
  {
   "attachments": {},
   "cell_type": "markdown",
   "metadata": {},
   "source": [
    "### Distribuir de forma dinâmica o valor total obtido pelo número de tentativas tendo em conta as seguinte condições:\n",
    "*  O somatório dos valores obtidos através desta distribuição deverá ser sempre igual ao valor total obtido\n",
    "*  Estes valores devem ser distintos entre eles (quando o restante das regras o permitir)"
   ]
  },
  {
   "cell_type": "code",
   "execution_count": 4,
   "metadata": {},
   "outputs": [
    {
     "name": "stdout",
     "output_type": "stream",
     "text": [
      "Valor Total = 54\n",
      "Nº de tentativas = 3\n",
      "Valores distribuídos: [24, 16, 14]\n"
     ]
    }
   ],
   "source": [
    "def distribuicao_dinamica(total, tentativas):\n",
    "    valores = []\n",
    "    soma = 0\n",
    "\n",
    "    # Distribuir valores aleatórios distintos\n",
    "    for _ in range(tentativas - 1):\n",
    "        cap_max = total - soma\n",
    "        if cap_max < 1:                     # verifica se a faixa máxima para gerar o valor aleatório é maior ou igual a 1\n",
    "            break\n",
    "        \n",
    "        valor = rd.randint(1, cap_max)\n",
    "        valores.append(valor)\n",
    "        soma += valor\n",
    "\n",
    "    # Último valor para garantir que a soma seja igual ao total\n",
    "    valores.append(total - soma)\n",
    "    \n",
    "    if 0 in valores:\n",
    "        valores.remove(0)\n",
    "    \n",
    "    return valores\n",
    "\n",
    "# Exemplo de uso\n",
    "print(\"Valor Total =\", valor_total)\n",
    "print(\"Nº de tentativas =\", num_tentativas)\n",
    "\n",
    "valores_distribuidos = distribuicao_dinamica(valor_total, num_tentativas)\n",
    "print(\"Valores distribuídos:\", valores_distribuidos)\n",
    "\n",
    "# sum(valores_distribuidos) == valor_total"
   ]
  },
  {
   "cell_type": "code",
   "execution_count": 46,
   "metadata": {},
   "outputs": [
    {
     "name": "stdout",
     "output_type": "stream",
     "text": [
      "Valor Total = 72\n",
      "Nº de tentativas = 1\n",
      "Valores distribuídos: [72]\n",
      "Valor Total = 95\n",
      "Nº de tentativas = 2\n",
      "Valores distribuídos: [47, 48]\n",
      "Valor Total = 48\n",
      "Nº de tentativas = 3\n",
      "Valores distribuídos: [48]\n",
      "Valor Total = 44\n",
      "Nº de tentativas = 3\n",
      "Valores distribuídos: [31, 2, 11]\n",
      "Valor Total = 18\n",
      "Nº de tentativas = 3\n",
      "Valores distribuídos: [1, 16, 1]\n",
      "Valor Total = 91\n",
      "Nº de tentativas = 2\n",
      "Valores distribuídos: [89, 2]\n",
      "Valor Total = 48\n",
      "Nº de tentativas = 3\n",
      "Valores distribuídos: [44, 2, 2]\n",
      "Valor Total = 54\n",
      "Nº de tentativas = 3\n",
      "Valores distribuídos: [11, 31, 12]\n",
      "Valor Total = 55\n",
      "Nº de tentativas = 1\n",
      "Valores distribuídos: [55]\n",
      "Valor Total = 52\n",
      "Nº de tentativas = 2\n",
      "Valores distribuídos: [42, 10]\n"
     ]
    }
   ],
   "source": [
    "#   1º Exemplo\n",
    "for _ in range(10):\n",
    "    valor_total = rd.randint(5,100)\n",
    "    num_tentativas = rd.randint(1,3)\n",
    "    print(\"Valor Total =\", valor_total)\n",
    "    print(\"Nº de tentativas =\", num_tentativas)\n",
    "\n",
    "    valores_distribuidos = distribuicao_dinamica(valor_total, num_tentativas)\n",
    "    print(\"Valores distribuídos:\", valores_distribuidos)"
   ]
  },
  {
   "attachments": {},
   "cell_type": "markdown",
   "metadata": {},
   "source": [
    "### Na eventualidade do valor total > 20 existe a possibilidade de se introduzir dois níveis no jogo, tendo em conta que:\n",
    "*  No 1º nível, cada valor só pode ter um valor máximo = 20\n",
    "*  No 2º nível, só existirá um valor gerado $\\in [21,100]$ para pagar ao jogador, independentemente do número de tentativas restantes.\n",
    "*  O valor que identifica upgrade de nível é o valor $0$, estando este posicionado no array após os valores do 1º nível, caso existam."
   ]
  },
  {
   "cell_type": "code",
   "execution_count": 8,
   "metadata": {},
   "outputs": [],
   "source": [
    "import random as rd\n",
    "\n",
    "def distribuicao_dinamica(total, tentativas):\n",
    "    valores = []\n",
    "    soma = 0\n",
    "\n",
    "    if total > 20:\n",
    "        for i in range(max(1,tentativas - 1)):          # No caso do numero de tentativas ser 1, temos na mesma de seguir o loop\n",
    "            # Gerar um número aleatório para decidir o nível\n",
    "            nivel = rd.randint(1, 2)\n",
    "\n",
    "            if nivel == 1:\n",
    "            # Primeiro nível: valores até 20\n",
    "                cap_max = min(total - soma, 20)\n",
    "\n",
    "                if cap_max < 1:\n",
    "                    break\n",
    "\n",
    "                valor = rd.randint(1, cap_max)\n",
    "                valores.append(valor)\n",
    "                soma += valor\n",
    "   \n",
    "                # Último valor para garantir que a soma seja igual ao total\n",
    "                if i == max(1,tentativas-1) - 1:        # se estivermos na ultima tentativa entao adiciona o restante\n",
    "\n",
    "                    valores.append(total - soma)\n",
    "            else:\n",
    "                # Segundo nível: valor único entre 21 e 100\n",
    "                valores.append(0)                           # O valor 0 demarca o nível 2\n",
    "                valor_segundo_nivel = total - soma\n",
    "                valores.append(valor_segundo_nivel)\n",
    "                break\n",
    "    else:\n",
    "        # Único nível com valores até o total\n",
    "        for _ in range(tentativas - 1):\n",
    "            cap_max = total - soma\n",
    "            if cap_max < 1:\n",
    "                break\n",
    "\n",
    "            valor = rd.randint(1, cap_max)\n",
    "            valores.append(valor)\n",
    "            soma += valor\n",
    "            \n",
    "        # Último valor para garantir que a soma seja igual ao total\n",
    "        valores.append(total - soma)\n",
    "        \n",
    "        if 0 in valores:\n",
    "            valores.remove(0)\n",
    "        \n",
    "   \n",
    "    \n",
    "    return valores"
   ]
  },
  {
   "cell_type": "code",
   "execution_count": 58,
   "metadata": {},
   "outputs": [
    {
     "name": "stdout",
     "output_type": "stream",
     "text": [
      "Valor Total = 6\n",
      "Nº de tentativas = 2\n",
      "Valores distribuídos: [4, 2]\n",
      "Valor Total = 42\n",
      "Nº de tentativas = 3\n",
      "Valores distribuídos: [0, 42]\n",
      "Valor Total = 60\n",
      "Nº de tentativas = 2\n",
      "Valores distribuídos: [0, 60]\n",
      "Valor Total = 27\n",
      "Nº de tentativas = 3\n",
      "Valores distribuídos: [0, 27]\n",
      "Valor Total = 39\n",
      "Nº de tentativas = 3\n",
      "Valores distribuídos: [18, 0, 21]\n",
      "Valor Total = 60\n",
      "Nº de tentativas = 1\n",
      "Valores distribuídos: [9, 51]\n",
      "Valor Total = 6\n",
      "Nº de tentativas = 1\n",
      "Valores distribuídos: [6]\n",
      "Valor Total = 10\n",
      "Nº de tentativas = 2\n",
      "Valores distribuídos: [1, 9]\n",
      "Valor Total = 72\n",
      "Nº de tentativas = 2\n",
      "Valores distribuídos: [12, 60]\n",
      "Valor Total = 64\n",
      "Nº de tentativas = 3\n",
      "Valores distribuídos: [0, 64]\n"
     ]
    }
   ],
   "source": [
    "#   1º Exemplo\n",
    "for _ in range(10):\n",
    "    valor_total = rd.randint(5,100)\n",
    "    num_tentativas = rd.randint(1,3)\n",
    "    print(\"Valor Total =\", valor_total)\n",
    "    print(\"Nº de tentativas =\", num_tentativas)\n",
    "\n",
    "    valores_distribuidos1 = distribuicao_dinamica(valor_total, num_tentativas)\n",
    "    print(\"Valores distribuídos:\", valores_distribuidos1)"
   ]
  },
  {
   "attachments": {},
   "cell_type": "markdown",
   "metadata": {},
   "source": [
    "Como se pode verificar no *2º Exemplo*, existe a possibilidade de usar apenas uma tentativa no primeiro nível e prosseguir de seguida para o próximo nível."
   ]
  },
  {
   "cell_type": "code",
   "execution_count": 59,
   "metadata": {},
   "outputs": [
    {
     "name": "stdout",
     "output_type": "stream",
     "text": [
      "Valor Total = 64\n",
      "Nº de tentativas = 3\n",
      "Valores distribuídos: [0, 64]\n"
     ]
    }
   ],
   "source": [
    "# 2º Exemplo\n",
    "print(\"Valor Total =\", valor_total)\n",
    "print(\"Nº de tentativas =\", num_tentativas)\n",
    "\n",
    "valores_distribuidos2 = distribuicao_dinamica(valor_total, num_tentativas)\n",
    "print(\"Valores distribuídos:\", valores_distribuidos2)"
   ]
  },
  {
   "attachments": {},
   "cell_type": "markdown",
   "metadata": {},
   "source": [
    "### Espalhar a distribuição de valores num array de tamanho $10$. Esta distribuição deverá ser feita por ordem (preservando a aleatoriedade), tendo em conta as condições do problema anterior."
   ]
  },
  {
   "cell_type": "code",
   "execution_count": 60,
   "metadata": {},
   "outputs": [
    {
     "name": "stdout",
     "output_type": "stream",
     "text": [
      "Valor Total = 64\n",
      "Nº de tentativas = 3\n",
      "Valores distribuídos: [0, 64]\n",
      "Array global: [0, -1, -1, 64, -1, -1, -1, -1, -1, -1]\n"
     ]
    }
   ],
   "source": [
    "array_global = [-1] * 10                      # array preliminar de tamanho 10 e preenchido com valores a -1\n",
    "\n",
    "def preencher(valores):                       # recebe a lista de valores distribuídos como parâmetro\n",
    "    posicoes = list(range(10))\n",
    "    rd.shuffle(posicoes)                      # asseguramos que os indices do array estejam arranjados de forma aleatória\n",
    "\n",
    "    for valor, posicao in zip(valores, posicoes):   # a cada iteração, atribuímos o valor correspondente à posição no array global.\n",
    "        array_global[posicao] = valor\n",
    "\n",
    "# Exemplo\n",
    "print(\"Valor Total =\", valor_total)\n",
    "print(\"Nº de tentativas =\", num_tentativas)\n",
    "\n",
    "print(\"Valores distribuídos:\", valores_distribuidos2)\n",
    "\n",
    "preencher(valores_distribuidos1)\n",
    "print(\"Array global:\", array_global)\n"
   ]
  }
 ],
 "metadata": {
  "kernelspec": {
   "display_name": "Python 3",
   "language": "python",
   "name": "python3"
  },
  "language_info": {
   "codemirror_mode": {
    "name": "ipython",
    "version": 3
   },
   "file_extension": ".py",
   "mimetype": "text/x-python",
   "name": "python",
   "nbconvert_exporter": "python",
   "pygments_lexer": "ipython3",
   "version": "3.11.1"
  },
  "orig_nbformat": 4,
  "vscode": {
   "interpreter": {
    "hash": "8b60d1655586bc39579936b1771edbc278c425e65b218c3285beda285174ca1f"
   }
  }
 },
 "nbformat": 4,
 "nbformat_minor": 2
}
